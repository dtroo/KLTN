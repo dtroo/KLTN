{
  "nbformat": 4,
  "nbformat_minor": 0,
  "metadata": {
    "colab": {
      "name": "Untitled0.ipynb",
      "provenance": [],
      "collapsed_sections": [],
      "authorship_tag": "ABX9TyOrM11c8sbLC6aXPDi4FZyS",
      "include_colab_link": true
    },
    "kernelspec": {
      "name": "python3",
      "display_name": "Python 3"
    },
    "language_info": {
      "name": "python"
    }
  },
  "cells": [
    {
      "cell_type": "markdown",
      "metadata": {
        "id": "view-in-github",
        "colab_type": "text"
      },
      "source": [
        "<a href=\"https://colab.research.google.com/github/dtroo/KLTN/blob/main/Untitled0.ipynb\" target=\"_parent\"><img src=\"https://colab.research.google.com/assets/colab-badge.svg\" alt=\"Open In Colab\"/></a>"
      ]
    },
    {
      "cell_type": "markdown",
      "source": [
        "**Initial Setup**\n",
        "\n",
        "We'll start by downloading the data and loading the needed libraries."
      ],
      "metadata": {
        "id": "IBcysqyyacow"
      }
    },
    {
      "cell_type": "code",
      "source": [
        "# Download data from Github\n",
        "! git clone https://github.com/dtroo/KLTN\n"
      ],
      "metadata": {
        "id": "Mgdm2MzugTvo"
      },
      "execution_count": null,
      "outputs": []
    },
    {
      "cell_type": "code",
      "source": [
        "import pandas as pd\n",
        "import numpy as np\n",
        "import seaborn as sns\n",
        "from keras.models import Sequential,Model\n",
        "from keras.layers import Dense, Conv2D, Flatten, MaxPool2D\n",
        "from keras import layers\n",
        "from tensorflow import keras\n",
        "from keras import metrics\n",
        "from sklearn.model_selection import train_test_split"
      ],
      "metadata": {
        "id": "8hGEOlk4gZH5"
      },
      "execution_count": 2,
      "outputs": []
    },
    {
      "cell_type": "code",
      "source": [
        "f = open('KLTN/badrequests.txt',mode='r')\n",
        "badqueries = f.readlines()\n",
        "f = open('KLTN/goodrequests.txt',mode='r')\n",
        "goodqueries = f.readlines()\n",
        "f.close()"
      ],
      "metadata": {
        "id": "kWdwdbdO9G1E"
      },
      "execution_count": 3,
      "outputs": []
    },
    {
      "cell_type": "code",
      "source": [
        "badqueriespd = pd.DataFrame({'query': badqueries,'label': [1 for x in badqueries]})\n",
        "goodqueries = pd.DataFrame({'query': goodqueries,'label': [0 for x in goodqueries]})\n",
        "allqueries = pd.concat([badqueriespd,goodqueries])"
      ],
      "metadata": {
        "id": "uIjK_8uk9V2I"
      },
      "execution_count": 4,
      "outputs": []
    },
    {
      "cell_type": "code",
      "source": [
        "def generate_dataset(df):\n",
        "  tensorlist = []\n",
        "  labelist = []\n",
        "\n",
        "  # Generating our dataset sample by sample\n",
        "  for row in df.values:\n",
        "\n",
        "    query = row[0]\n",
        "    label = row[1]\n",
        "\n",
        "    # Encode characters into their UNICODE value\n",
        "    url_part = [ord(x) if (ord(x) < 129) else 0 for x in query[:784]]\n",
        "\n",
        "    # Pad with zeroes\n",
        "    url_part += [0] * (784 - len(url_part))\n",
        "    \n",
        "    maxim = max(url_part)\n",
        "    maxabs = 0\n",
        "    if maxim > maxabs:\n",
        "      maxabs = maxim\n",
        "    x = np.array(url_part).reshape(28,28)\n",
        "    \n",
        "    # label y\n",
        "    if label == 1:\n",
        "        y = np.array([0, 1], dtype=np.int8)\n",
        "    else :\n",
        "        y = np.array([1, 0], dtype=np.int8)\n",
        "    tensorlist.append(x)\n",
        "    labelist.append(y)\n",
        "\n",
        "  return tensorlist,labelist\n"
      ],
      "metadata": {
        "id": "vIlo7YHA9ZVD"
      },
      "execution_count": 5,
      "outputs": []
    },
    {
      "cell_type": "code",
      "source": [
        "X,y = generate_dataset(allqueries)"
      ],
      "metadata": {
        "id": "JfxiYle79dmh"
      },
      "execution_count": 6,
      "outputs": []
    },
    {
      "cell_type": "code",
      "source": [
        "X_train, X_test, y_train, y_test = train_test_split(X, y, test_size=0.2, random_state=42)"
      ],
      "metadata": {
        "id": "_n7p_tfa9g6U"
      },
      "execution_count": 7,
      "outputs": []
    },
    {
      "cell_type": "code",
      "source": [
        "import joblib\n",
        "from keras.models import Sequential,Model\n",
        "from keras.layers import Dense, Conv2D, Flatten, MaxPool2D\n",
        "model = Sequential()\n",
        "model.add(layers.Input(shape=(28,28,1)))\n",
        "model.add(Conv2D(64, (5, 5), activation='relu', kernel_initializer='he_uniform'))\n",
        "model.add(layers.BatchNormalization())\n",
        "model.add(Conv2D(32, (5, 5), activation='relu'))\n",
        "model.add(layers.Dropout(0.2))\n",
        "model.add(MaxPool2D((3,3)))\n",
        "model.add(Flatten())\n",
        "model.add(Dense(100, activation='relu', kernel_initializer='he_uniform'))\n",
        "model.add(Dense(2, activation='softmax'))\n",
        "# compile model\n",
        "model.compile(optimizer='adam', loss='categorical_crossentropy', metrics=['accuracy',metrics.Recall(),metrics.Precision()])\n"
      ],
      "metadata": {
        "id": "HxLBX6Zx9jUw"
      },
      "execution_count": 8,
      "outputs": []
    },
    {
      "cell_type": "code",
      "source": [
        "joblib.dump(model, 'model.pkl')\n",
        "#model1 = joblib.load('./model.pkl')"
      ],
      "metadata": {
        "colab": {
          "base_uri": "https://localhost:8080/"
        },
        "id": "UoL71PKGCE6W",
        "outputId": "0823f1e1-5027-4173-9ae5-962e3ef50dbe"
      },
      "execution_count": 9,
      "outputs": [
        {
          "output_type": "stream",
          "name": "stdout",
          "text": [
            "INFO:tensorflow:Assets written to: ram://62e79bb2-d075-4080-90e2-d352989c3dd2/assets\n"
          ]
        },
        {
          "output_type": "execute_result",
          "data": {
            "text/plain": [
              "['model.pkl']"
            ]
          },
          "metadata": {},
          "execution_count": 9
        }
      ]
    },
    {
      "cell_type": "code",
      "source": [
        "#! ls\n",
        "model1 = joblib.load('model.pkl')\n",
        "model1.fit(np.array(X_train)/128.0,np.array(y_train),epochs=2,batch_size=100)\n",
        "model1.evaluate(np.array(X_test)/128.0,np.array(y_test))"
      ],
      "metadata": {
        "colab": {
          "base_uri": "https://localhost:8080/"
        },
        "id": "2acRG3o5DFpC",
        "outputId": "0cdeb701-7dea-4a71-bd6c-2483481cc75c"
      },
      "execution_count": 14,
      "outputs": [
        {
          "output_type": "stream",
          "name": "stdout",
          "text": [
            "Epoch 1/2\n",
            "84/84 [==============================] - 43s 496ms/step - loss: 0.1978 - accuracy: 0.9366 - recall: 0.9366 - precision: 0.9366\n",
            "Epoch 2/2\n",
            "84/84 [==============================] - 43s 507ms/step - loss: 0.0622 - accuracy: 0.9821 - recall: 0.9821 - precision: 0.9821\n",
            "66/66 [==============================] - 3s 36ms/step - loss: 0.4187 - accuracy: 0.9689 - recall: 0.9689 - precision: 0.9689\n"
          ]
        },
        {
          "output_type": "execute_result",
          "data": {
            "text/plain": [
              "[0.4187285602092743,\n",
              " 0.9688548445701599,\n",
              " 0.9688548445701599,\n",
              " 0.9688548445701599]"
            ]
          },
          "metadata": {},
          "execution_count": 14
        }
      ]
    },
    {
      "cell_type": "code",
      "source": [
        "len(X_train)"
      ],
      "metadata": {
        "colab": {
          "base_uri": "https://localhost:8080/"
        },
        "id": "kANVVXKx9u3F",
        "outputId": "fd84265f-6ba4-429d-fd79-305efe67f0b5"
      },
      "execution_count": null,
      "outputs": [
        {
          "output_type": "execute_result",
          "data": {
            "text/plain": [
              "8346"
            ]
          },
          "metadata": {},
          "execution_count": 9
        }
      ]
    },
    {
      "cell_type": "code",
      "source": [
        "len(y_train)"
      ],
      "metadata": {
        "colab": {
          "base_uri": "https://localhost:8080/"
        },
        "id": "JhRVpCwW9xAe",
        "outputId": "963dc950-cf1c-45a5-8ad8-6cf510007a8a"
      },
      "execution_count": null,
      "outputs": [
        {
          "output_type": "execute_result",
          "data": {
            "text/plain": [
              "8346"
            ]
          },
          "metadata": {},
          "execution_count": 10
        }
      ]
    },
    {
      "cell_type": "code",
      "source": [
        "X_train[0].shape"
      ],
      "metadata": {
        "colab": {
          "base_uri": "https://localhost:8080/"
        },
        "id": "AskHsAg59zR4",
        "outputId": "b189371d-c851-4b76-be83-78cc25d7cc70"
      },
      "execution_count": null,
      "outputs": [
        {
          "output_type": "execute_result",
          "data": {
            "text/plain": [
              "(28, 28)"
            ]
          },
          "metadata": {},
          "execution_count": 11
        }
      ]
    },
    {
      "cell_type": "code",
      "source": [
        "y_train[0].shape"
      ],
      "metadata": {
        "colab": {
          "base_uri": "https://localhost:8080/"
        },
        "id": "S1-6MdAL91lI",
        "outputId": "7565f164-abf7-40c2-ff47-084d86a411ad"
      },
      "execution_count": null,
      "outputs": [
        {
          "output_type": "execute_result",
          "data": {
            "text/plain": [
              "(2,)"
            ]
          },
          "metadata": {},
          "execution_count": 12
        }
      ]
    },
    {
      "cell_type": "code",
      "source": [
        "model.fit(np.array(X_train)/128.0,np.array(y_train),epochs=2,batch_size=100)"
      ],
      "metadata": {
        "colab": {
          "base_uri": "https://localhost:8080/"
        },
        "id": "PMH7X_xH93Sc",
        "outputId": "484cb914-aec5-4a46-f59e-e77a4aa19738"
      },
      "execution_count": null,
      "outputs": [
        {
          "output_type": "stream",
          "name": "stdout",
          "text": [
            "Epoch 1/2\n",
            "84/84 [==============================] - 46s 529ms/step - loss: 0.1706 - accuracy: 0.9475 - recall: 0.9475 - precision: 0.9475\n",
            "Epoch 2/2\n",
            "84/84 [==============================] - 48s 574ms/step - loss: 0.0571 - accuracy: 0.9843 - recall: 0.9843 - precision: 0.9843\n"
          ]
        },
        {
          "output_type": "execute_result",
          "data": {
            "text/plain": [
              "<keras.callbacks.History at 0x7f6f9e4cb050>"
            ]
          },
          "metadata": {},
          "execution_count": 13
        }
      ]
    },
    {
      "cell_type": "code",
      "source": [
        "model.evaluate(np.array(X_test)/128.0,np.array(y_test))"
      ],
      "metadata": {
        "colab": {
          "base_uri": "https://localhost:8080/"
        },
        "id": "Pq51rwbZ-ESt",
        "outputId": "f0237817-27e2-46de-820e-00f66c375fbf"
      },
      "execution_count": null,
      "outputs": [
        {
          "output_type": "stream",
          "name": "stdout",
          "text": [
            "66/66 [==============================] - 3s 36ms/step - loss: 0.3474 - accuracy: 0.9243 - recall: 0.9243 - precision: 0.9243\n"
          ]
        },
        {
          "output_type": "execute_result",
          "data": {
            "text/plain": [
              "[0.34742122888565063,\n",
              " 0.9242932200431824,\n",
              " 0.9242932200431824,\n",
              " 0.9242932200431824]"
            ]
          },
          "metadata": {},
          "execution_count": 14
        }
      ]
    },
    {
      "cell_type": "code",
      "source": [
        "print('1')"
      ],
      "metadata": {
        "colab": {
          "base_uri": "https://localhost:8080/"
        },
        "id": "1QdJtjLkHAsL",
        "outputId": "ad4efc5b-1bd5-4708-f5b9-aabf8cc39f31"
      },
      "execution_count": null,
      "outputs": [
        {
          "output_type": "stream",
          "name": "stdout",
          "text": [
            "1\n"
          ]
        }
      ]
    }
  ]
}